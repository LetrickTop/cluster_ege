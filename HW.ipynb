{
  "cells": [
    {
      "cell_type": "markdown",
      "id": "72bc483c",
      "metadata": {
        "id": "72bc483c"
      },
      "source": [
        "# Кластеризация ЕГЭ (8.5 если сделаны все задачи)"
      ]
    },
    {
      "cell_type": "markdown",
      "id": "57bc2fba",
      "metadata": {
        "id": "57bc2fba"
      },
      "source": [
        "Рядом лежат экселевские таблицы с координатами точек. В 3 и 4 задаче используется манхетеское расстояние. В остальных Евклидово.\n",
        "\n",
        "* Постройте Распределение точек\n",
        "* Кластеризуйте руками\n",
        "* Постройте Распределение точек, отметьте принадлежность кластеров цветами\n",
        "* Найдите среди в каждом кластере точку расстояние от которой до всех остальных минимально\n",
        "* Выведите усреднение центров всех кластеров * 1000"
      ]
    },
    {
      "cell_type": "code",
      "execution_count": 9,
      "id": "cb6a6519",
      "metadata": {
        "id": "cb6a6519"
      },
      "outputs": [],
      "source": [
        "import pandas as pd\n",
        "import matplotlib.pyplot as plt\n",
        "import numpy as np\n",
        "from math import *"
      ]
    },
    {
      "cell_type": "code",
      "source": [
        "def zxc(claster):\n",
        "  smin = float('inf')\n",
        "  for i in range(len(claster)):\n",
        "    s = 0\n",
        "    for j in range(len(claster)):\n",
        "      s += (((claster[i][0] - claster[j][0]) ** 2 + (claster[i][1] - claster[j][1]) ** 2) ** 0.5)\n",
        "    if s < smin:\n",
        "      smin = s\n",
        "      x = claster[i][0]\n",
        "      y = claster[i][1]\n",
        "  return (x, y)\n",
        "f = open('/content/0.txt')\n",
        "claster1 = []\n",
        "claster2 = []\n",
        "a = []\n",
        "f.readline()\n",
        "n = nk = 0\n",
        "for i in f.readlines():\n",
        "  i = i.replace(',', '.')\n",
        "  a.append(list(map(float, i.split())))\n",
        "for i in a:\n",
        "  if -1 <= i[0] <= 1.25 and 6 <= i[1] <= 10:\n",
        "    claster1.append(i)\n",
        "    n += 1\n",
        "  elif 1 <= i[0] <= 3 and 4 <= i[1] <= 6.5:\n",
        "    claster2.append(i)\n",
        "    n += 1\n",
        "  nk += 1\n",
        "print(n, nk)\n",
        "x1, y1 = zxc(claster1)\n",
        "x2, y2 = zxc(claster2)\n",
        "print((x1 + x2) / 2 * 1000)\n",
        "print((y1 + y2) / 2 * 1000)"
      ],
      "metadata": {
        "colab": {
          "base_uri": "https://localhost:8080/"
        },
        "id": "q4PCrogffoy3",
        "outputId": "75efbfac-604d-4995-93fb-65580b085ea3"
      },
      "id": "q4PCrogffoy3",
      "execution_count": 10,
      "outputs": [
        {
          "output_type": "stream",
          "name": "stdout",
          "text": [
            "100 100\n",
            "1041.006278\n",
            "6671.173406499999\n"
          ]
        }
      ]
    },
    {
      "cell_type": "code",
      "source": [
        "def zxc(claster):\n",
        "  smin = float('inf')\n",
        "  for i in range(len(claster)):\n",
        "    s = 0\n",
        "    for j in range(len(claster)):\n",
        "      s += (((claster[i][0] - claster[j][0]) ** 2 + (claster[i][1] - claster[j][1]) ** 2) ** 0.5)\n",
        "    if s < smin:\n",
        "      smin = s\n",
        "      x = claster[i][0]\n",
        "      y = claster[i][1]\n",
        "  return (x, y)\n",
        "f = open('/content/1.txt')\n",
        "claster1 = []\n",
        "claster2 = []\n",
        "claster3 = []\n",
        "a = []\n",
        "f.readline()\n",
        "for i in f.readlines():\n",
        "  i = i.replace(',', '.')\n",
        "  a.append(list(map(float, i.split())))\n",
        "n = nk = 0\n",
        "center1 = (10.0, 1.2)\n",
        "a1, b1 = 1.3, 1.5\n",
        "center2 = (8, -1)\n",
        "a2, b2 = 1.5, 2\n",
        "center3 = (6.5, 2.25)\n",
        "a3, b3 = 1.5, 1.5\n",
        "\n",
        "for i in a:\n",
        "  if ((i[0] - center1[0]) ** 2) / (a1 ** 2) + ((i[1] - center1[1]) ** 2) / (b1 ** 2) <= 1:\n",
        "    claster1.append(i)\n",
        "    n += 1\n",
        "  elif ((i[0] - center2[0]) ** 2) / (a2 ** 2) + ((i[1] - center2[1]) ** 2) / (b2 ** 2) <= 1:\n",
        "    claster2.append(i)\n",
        "    n += 1\n",
        "  elif ((i[0] - center3[0]) ** 2) / (a3 ** 2) + ((i[1] - center3[1]) ** 2) / (b3 ** 2) <= 1:\n",
        "    claster3.append(i)\n",
        "    n += 1\n",
        "  nk += 1\n",
        "\n",
        "print(n, nk)\n",
        "x1, y1 = zxc(claster1)\n",
        "x2, y2 = zxc(claster2)\n",
        "x3, y3 = zxc(claster3)\n",
        "print((x1 + x2 + x3) / 3 * 1000)\n",
        "print((y1 + y2 + y3) / 3 * 1000)"
      ],
      "metadata": {
        "colab": {
          "base_uri": "https://localhost:8080/"
        },
        "id": "Czrf2Oy5k9tz",
        "outputId": "ff80f395-7bbc-406c-d56d-ebba013e3b73"
      },
      "id": "Czrf2Oy5k9tz",
      "execution_count": 11,
      "outputs": [
        {
          "output_type": "stream",
          "name": "stdout",
          "text": [
            "9999 9999\n",
            "8177.530805\n",
            "738.4186756666666\n"
          ]
        }
      ]
    },
    {
      "cell_type": "code",
      "source": [
        "def zxc(claster):\n",
        "  smin = float('inf')\n",
        "  for i in range(len(claster)):\n",
        "    s = 0\n",
        "    for j in range(len(claster)):\n",
        "      s += abs(claster[i][0] - claster[j][0]) + abs(claster[i][1] - claster[j][1])\n",
        "    if s < smin:\n",
        "      smin = s\n",
        "      x = claster[i][0]\n",
        "      y = claster[i][1]\n",
        "  return (x, y)\n",
        "f = open('/content/2.txt')\n",
        "claster1 = []\n",
        "claster2 = []\n",
        "a = []\n",
        "f.readline()\n",
        "n = nk = 0\n",
        "for i in f.readlines():\n",
        "  i = i.replace(',', '.')\n",
        "  a.append(list(map(float, i.split())))\n",
        "for i in a:\n",
        "  if 2 <= i[0] <= 23 and 0 <= i[1] <= 12:\n",
        "    claster1.append(i)\n",
        "    n += 1\n",
        "  elif 24 <= i[0] <= 46 and -10 <= i[1] <= 1:\n",
        "    claster2.append(i)\n",
        "    n += 1\n",
        "  nk += 1\n",
        "print(n, nk)\n",
        "x1, y1 = zxc(claster1)\n",
        "x2, y2 = zxc(claster2)\n",
        "print((x1 + x2) / 2 * 1000)\n",
        "print((y1 + y2) / 2 * 1000)"
      ],
      "metadata": {
        "id": "eo4XKHNHqWOJ",
        "colab": {
          "base_uri": "https://localhost:8080/"
        },
        "outputId": "42f8acfc-5019-412e-af1a-617560e31527"
      },
      "id": "eo4XKHNHqWOJ",
      "execution_count": 12,
      "outputs": [
        {
          "output_type": "stream",
          "name": "stdout",
          "text": [
            "999 999\n",
            "23509.902664999998\n",
            "554.6822819999999\n"
          ]
        }
      ]
    },
    {
      "cell_type": "code",
      "source": [
        "def zxc(claster):\n",
        "  smin = float('inf')\n",
        "  for i in range(len(claster)):\n",
        "    s = 0\n",
        "    for j in range(len(claster)):\n",
        "      s += abs(claster[i][0] - claster[j][0]) + abs(claster[i][1] - claster[j][1])\n",
        "    if s < smin:\n",
        "      smin = s\n",
        "      x = claster[i][0]\n",
        "      y = claster[i][1]\n",
        "  return (x, y)\n",
        "f = open('/content/3.txt')\n",
        "claster1 = []\n",
        "claster2 = []\n",
        "claster3 = []\n",
        "a = []\n",
        "n = nk = 0\n",
        "for i in f.readlines():\n",
        "  i = i.replace(',', '.')\n",
        "  a.append(list(map(float, i.split())))\n",
        "for i in a:\n",
        "  if -8 <= i[0] <= 16 and -2 <= i[1] <= 10:\n",
        "    claster1.append(i)\n",
        "    n += 1\n",
        "  elif 20 <= i[0] <= 42 and -10 <= i[1] <= 2:\n",
        "    claster2.append(i)\n",
        "    n += 1\n",
        "  elif -36 <= i[0] <= -14 and -20 <= i[1] <= -8:\n",
        "    claster3.append(i)\n",
        "    n += 1\n",
        "  nk += 1\n",
        "print(n, nk)\n",
        "x1, y1 = zxc(claster1)\n",
        "x2, y2 = zxc(claster2)\n",
        "x3, y3 = zxc(claster3)\n",
        "print((x1 + x2 + x3) / 3 * 1000)\n",
        "print((y1 + y2 + y3) / 3 * 1000)"
      ],
      "metadata": {
        "colab": {
          "base_uri": "https://localhost:8080/"
        },
        "id": "nHIGeC6vrffw",
        "outputId": "8b292f6f-e6a8-4709-d9c5-b7f2e3a7664b"
      },
      "id": "nHIGeC6vrffw",
      "execution_count": 13,
      "outputs": [
        {
          "output_type": "stream",
          "name": "stdout",
          "text": [
            "10000 10000\n",
            "3078.8940146666646\n",
            "-4758.945237\n"
          ]
        }
      ]
    },
    {
      "cell_type": "code",
      "source": [
        "def zxc(claster):\n",
        "  smin = float('inf')\n",
        "  for i in range(len(claster)):\n",
        "    s = 0\n",
        "    for j in range(len(claster)):\n",
        "      s += (((claster[i][0] - claster[j][0]) ** 2 + (claster[i][1] - claster[j][1]) ** 2) ** 0.5)\n",
        "    if s < smin:\n",
        "      smin = s\n",
        "      x = claster[i][0]\n",
        "      y = claster[i][1]\n",
        "  return (x, y)\n",
        "f = open('/content/4.txt')\n",
        "claster1 = []\n",
        "claster2 = []\n",
        "a = []\n",
        "f.readline()\n",
        "n = nk = 0\n",
        "for i in f.readlines():\n",
        "  i = i.replace(',', '.')\n",
        "  a.append(list(map(float, i.split())))\n",
        "for i in a:\n",
        "  if i[1] < i[0] + 2:\n",
        "    claster1.append(i)\n",
        "    n += 1\n",
        "  else:\n",
        "    claster2.append(i)\n",
        "    #n += 1\n",
        "  nk += 1\n",
        "print(n, nk)\n",
        "x1, y1 = zxc(claster1)\n",
        "x2, y2 = zxc(claster2)\n",
        "print((x1 + x2) / 2 * 1000)\n",
        "print((y1 + y2) / 2 * 1000)"
      ],
      "metadata": {
        "colab": {
          "base_uri": "https://localhost:8080/"
        },
        "id": "c56kRmQWs0ON",
        "outputId": "9b64536e-5bfc-4fbf-adbb-0ae96d5155a1"
      },
      "id": "c56kRmQWs0ON",
      "execution_count": 14,
      "outputs": [
        {
          "output_type": "stream",
          "name": "stdout",
          "text": [
            "250 500\n",
            "2588.539922\n",
            "4996.5675034999995\n"
          ]
        }
      ]
    },
    {
      "cell_type": "code",
      "source": [
        "def zxc(claster):\n",
        "  smin = float('inf')\n",
        "  for i in range(len(claster)):\n",
        "    s = 0\n",
        "    for j in range(len(claster)):\n",
        "      s += (((claster[i][0] - claster[j][0]) ** 2 + (claster[i][1] - claster[j][1]) ** 2) ** 0.5)\n",
        "    if s < smin:\n",
        "      smin = s\n",
        "      x = claster[i][0]\n",
        "      y = claster[i][1]\n",
        "  return (x, y)\n",
        "f = open('/content/5.txt')\n",
        "f.readline()\n",
        "claster1 = []\n",
        "claster2 = []\n",
        "claster3 = []\n",
        "a = []\n",
        "n = nk = 0\n",
        "for i in f.readlines():\n",
        "  i = i.replace(',', '.')\n",
        "  a.append(list(map(float, i.split())))\n",
        "for i in a:\n",
        "  if i[0] < 0 and i[1] < 3.5:\n",
        "    claster1.append(i)\n",
        "    n += 1\n",
        "  elif 0.5 <= i[0] <= 7 and i[1] <= i[0] + 3.5:\n",
        "    claster2.append(i)\n",
        "    n += 1\n",
        "  elif i[1] > 3.5 and i[1] > i[0] + 3.5:\n",
        "    claster3.append(i)\n",
        "    n += 1\n",
        "  nk += 1\n",
        "print(n, nk)\n",
        "x1, y1 = zxc(claster1)\n",
        "x2, y2 = zxc(claster2)\n",
        "x3, y3 = zxc(claster3)\n",
        "print((x1 + x2 + x3) / 3 * 1000)\n",
        "print((y1 + y2 + y3) / 3 * 1000)"
      ],
      "metadata": {
        "id": "vWRsxtfZvd4D",
        "colab": {
          "base_uri": "https://localhost:8080/"
        },
        "outputId": "77570091-11aa-48fc-c967-9a787c4fc901"
      },
      "id": "vWRsxtfZvd4D",
      "execution_count": 19,
      "outputs": [
        {
          "output_type": "stream",
          "name": "stdout",
          "text": [
            "9999 9999\n",
            "61.652188666666625\n",
            "3723.362146333333\n"
          ]
        }
      ]
    },
    {
      "cell_type": "markdown",
      "id": "f3df8814",
      "metadata": {
        "id": "f3df8814"
      },
      "source": [
        "# Кластеризация (0.75 за каждый алгоритм на всех данных)"
      ]
    },
    {
      "cell_type": "markdown",
      "id": "1cf53319",
      "metadata": {
        "id": "1cf53319"
      },
      "source": [
        "На предложенных распределениях данных проверьте предложенные алгоритмы. Постройте графики кластеризации для каждой пары алгоритм-данные, разные кластеры покрасьте разным цветом. Воспользуйтесь sklearn реализациями. Параметры кластеризации для разных алгоритмов подберите такие, чтобы алгоритмы можно было сравнивать (по возможности одинаковое количество кластеров и т.д.)"
      ]
    },
    {
      "cell_type": "code",
      "execution_count": null,
      "id": "27e323b3",
      "metadata": {
        "id": "27e323b3"
      },
      "outputs": [],
      "source": [
        "import time\n",
        "import warnings\n",
        "\n",
        "import numpy as np\n",
        "import matplotlib.pyplot as plt\n",
        "\n",
        "from sklearn import cluster, datasets, mixture\n",
        "from sklearn.neighbors import kneighbors_graph\n",
        "from sklearn.preprocessing import StandardScaler\n",
        "from itertools import cycle, islice"
      ]
    },
    {
      "cell_type": "code",
      "execution_count": null,
      "id": "8f18470f",
      "metadata": {
        "id": "8f18470f"
      },
      "outputs": [],
      "source": [
        "two_means =\n",
        "dbscan =\n",
        "\n",
        "clustering_algorithms = (\n",
        "        (\"MiniBatch\\nKMeans\", two_means),\n",
        "        (\"DBSCAN\", dbscan),\n",
        "    )"
      ]
    },
    {
      "cell_type": "code",
      "execution_count": null,
      "id": "ae73f346",
      "metadata": {
        "id": "ae73f346"
      },
      "outputs": [],
      "source": [
        "np.random.seed(0)\n",
        "\n",
        "# ============\n",
        "# Generate datasets. We choose the size big enough to see the scalability\n",
        "# of the algorithms, but not too big to avoid too long running times\n",
        "# ============\n",
        "n_samples = 1500\n",
        "noisy_circles = datasets.make_circles(n_samples=n_samples, factor=0.5, noise=0.05)\n",
        "noisy_moons = datasets.make_moons(n_samples=n_samples, noise=0.05)\n",
        "blobs = datasets.make_blobs(n_samples=n_samples, random_state=8)\n",
        "no_structure = np.random.rand(n_samples, 2), None\n",
        "\n",
        "# Anisotropicly distributed data\n",
        "random_state = 170\n",
        "X, y = datasets.make_blobs(n_samples=n_samples, random_state=random_state)\n",
        "transformation = [[0.6, -0.6], [-0.4, 0.8]]\n",
        "X_aniso = np.dot(X, transformation)\n",
        "aniso = (X_aniso, y)\n",
        "\n",
        "# blobs with varied variances\n",
        "varied = datasets.make_blobs(\n",
        "    n_samples=n_samples, cluster_std=[1.0, 2.5, 0.5], random_state=random_state\n",
        ")\n",
        "\n",
        "# ============\n",
        "# Set up cluster parameters\n",
        "# ============\n",
        "plt.figure(figsize=(9 * 2 + 3, 13))\n",
        "plt.subplots_adjust(\n",
        "    left=0.02, right=0.98, bottom=0.001, top=0.95, wspace=0.05, hspace=0.01\n",
        ")\n",
        "\n",
        "plot_num = 1\n",
        "\n",
        "default_base = {\n",
        "    \"quantile\": 0.3,\n",
        "    \"eps\": 0.3,\n",
        "    \"damping\": 0.9,\n",
        "    \"preference\": -200,\n",
        "    \"n_neighbors\": 10,\n",
        "    \"n_clusters\": 3,\n",
        "    \"min_samples\": 20,\n",
        "    \"xi\": 0.05,\n",
        "    \"min_cluster_size\": 0.1,\n",
        "}\n",
        "\n",
        "datasets = [\n",
        "    (\n",
        "        noisy_circles,\n",
        "        {\n",
        "            \"damping\": 0.77,\n",
        "            \"preference\": -240,\n",
        "            \"quantile\": 0.2,\n",
        "            \"n_clusters\": 2,\n",
        "            \"min_samples\": 20,\n",
        "            \"xi\": 0.25,\n",
        "        },\n",
        "    ),\n",
        "    (noisy_moons, {\"damping\": 0.75, \"preference\": -220, \"n_clusters\": 2}),\n",
        "    (\n",
        "        varied,\n",
        "        {\n",
        "            \"eps\": 0.18,\n",
        "            \"n_neighbors\": 2,\n",
        "            \"min_samples\": 5,\n",
        "            \"xi\": 0.035,\n",
        "            \"min_cluster_size\": 0.2,\n",
        "        },\n",
        "    ),\n",
        "    (\n",
        "        aniso,\n",
        "        {\n",
        "            \"eps\": 0.15,\n",
        "            \"n_neighbors\": 2,\n",
        "            \"min_samples\": 20,\n",
        "            \"xi\": 0.1,\n",
        "            \"min_cluster_size\": 0.2,\n",
        "        },\n",
        "    ),\n",
        "    (blobs, {}),\n",
        "    (no_structure, {}),\n",
        "]\n",
        "\n",
        "for i_dataset, (dataset, algo_params) in enumerate(datasets):\n",
        "    # update parameters with dataset-specific values\n",
        "    params = default_base.copy()\n",
        "    params.update(algo_params)\n",
        "\n",
        "    X, y = dataset\n",
        "\n",
        "    # normalize dataset for easier parameter selection\n",
        "    X = StandardScaler().fit_transform(X)\n",
        "\n",
        "    # estimate bandwidth for mean shift\n",
        "    bandwidth = cluster.estimate_bandwidth(X, quantile=params[\"quantile\"])\n",
        "\n",
        "    # connectivity matrix for structured Ward\n",
        "    connectivity = kneighbors_graph(\n",
        "        X, n_neighbors=params[\"n_neighbors\"], include_self=False\n",
        "    )\n",
        "    # make connectivity symmetric\n",
        "    connectivity = 0.5 * (connectivity + connectivity.T)\n",
        "\n",
        "    for name, algorithm in clustering_algorithms:\n",
        "        t0 = time.time()"
      ]
    }
  ],
  "metadata": {
    "kernelspec": {
      "display_name": "Python 3 (ipykernel)",
      "language": "python",
      "name": "python3"
    },
    "language_info": {
      "codemirror_mode": {
        "name": "ipython",
        "version": 3
      },
      "file_extension": ".py",
      "mimetype": "text/x-python",
      "name": "python",
      "nbconvert_exporter": "python",
      "pygments_lexer": "ipython3",
      "version": "3.9.12"
    },
    "colab": {
      "provenance": []
    }
  },
  "nbformat": 4,
  "nbformat_minor": 5
}